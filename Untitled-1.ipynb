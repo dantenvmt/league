{
 "cells": [
  {
   "cell_type": "code",
   "execution_count": 2,
   "metadata": {},
   "outputs": [
    {
     "name": "stdout",
     "output_type": "stream",
     "text": [
      "[]\n"
     ]
    }
   ],
   "source": [
    "import requests\n",
    "import json\n",
    "from riotwatcher import LolWatcher, ApiError\n",
    "\n",
    "# API key for LoL developer account\n",
    "API_KEY = 'RGAPI-a501385e-5b71-480d-88da-79110bf3fec5'\n",
    "\n",
    "# Region, tier, and game mode to query\n",
    "region = 'NA1'\n",
    "tier = 'CHALLENGER'\n",
    "game_mode = 'RANKED_SOLO_5x5'\n",
    "\n",
    "# Construct the URL to retrieve the data\n",
    "url = f'https://{region}.api.riotgames.com/lol/league/v4/challengerleagues/by-queue/{game_mode}'\n",
    "headers = {\n",
    "    \"X-Riot-Token\": API_KEY\n",
    "}\n",
    "response = requests.get(url, headers=headers)\n",
    "\n",
    "# Check if the response is successful and parse the JSON data\n",
    "# Check if the response is successful and parse the JSON data\n",
    "if response.status_code == 200:\n",
    "    data = json.loads(response.content)\n",
    "    player_list = []\n",
    "    for player in data['entries']:\n",
    "        player_dict = {\n",
    "            'name': player['summonerName'],\n",
    "            'lp': player['leaguePoints'],\n",
    "            'summoner_id': player['summonerId']\n",
    "        }\n",
    "        player_list.append(player_dict)\n",
    "\n",
    "else:\n",
    "    print(f'Error {response.status_code}: {response.reason}')\n",
    "\n",
    "# Initialize the RiotWatcher object\n",
    "watcher = LolWatcher(API_KEY)\n",
    "\n",
    "\n",
    "# Load existing player data from a file\n",
    "try:\n",
    "    with open('players.json', 'r') as f:\n",
    "        existing_player_data = json.load(f)\n",
    "except FileNotFoundError:\n",
    "    existing_player_data = []\n",
    "print(existing_player_data)"
   ]
  },
  {
   "cell_type": "code",
   "execution_count": 3,
   "metadata": {},
   "outputs": [
    {
     "name": "stdout",
     "output_type": "stream",
     "text": [
      "Summoner not found: jjking9\n",
      "Summoner not found: 再见\n",
      "Summoner not found: 中国\n"
     ]
    }
   ],
   "source": [
    "# Loop through each player and retrieve their PUUID if they don't already have one\n",
    "new_player_data = []\n",
    "for player in player_list:\n",
    "        if 'puuid'not in player:\n",
    "            try:\n",
    "                summoner_data = watcher.summoner.by_name(region, player['name'])\n",
    "                if summoner_data:\n",
    "                    player['puuid'] = summoner_data['puuid']\n",
    "                    new_player_data.append(player)\n",
    "                else:\n",
    "                    print(f'Error: Summoner not found for {player[\"name\"]}')\n",
    "            except ApiError as err:\n",
    "                if err.response.status_code == 404:\n",
    "                    # Skip this summoner if they can't be found\n",
    "                    print(f'Summoner not found: {player[\"name\"]}')\n",
    "                else:\n",
    "                    # Raise the exception if it's not a 404 error\n",
    "                    raise err\n",
    "# Remove duplicates from the all player data\n",
    "\n",
    "# Save the new player data to a file\n",
    "if new_player_data:\n",
    "    with open('new_players.json', 'w') as f:\n",
    "        json.dump(new_player_data, f)\n",
    "\n",
    "# Merge the existing player data with the new player data\n",
    "all_player_data = existing_player_data + new_player_data\n",
    "\n",
    "# Save all player data to a file\n",
    "with open('players.json', 'w') as f:\n",
    "    json.dump(all_player_data, f)"
   ]
  },
  {
   "cell_type": "code",
   "execution_count": 10,
   "metadata": {},
   "outputs": [],
   "source": [
    "# Create a list to store player data\n",
    "player_match_data = []\n",
    "\n",
    "# Loop through each player and retrieve their PUUID if they don't already have one\n",
    "for player in all_player_data:\n",
    "    if 'puuid' not in player:\n",
    "        continue  # Skip players without a PUUID\n",
    "\n",
    "    # Get the match history for the player\n",
    "    try:\n",
    "        match_history = watcher.match.matchlist_by_puuid(region, player['puuid'],count=10)\n",
    "    except ApiError as err:\n",
    "        if err.response.status_code == 404:\n",
    "            # Skip this player if they have no matches\n",
    "            print(f'No matches found for {player[\"name\"]}')\n",
    "            continue\n",
    "        else:\n",
    "            # Raise the exception if it's not a 404 error\n",
    "            raise err\n",
    "\n",
    "    # Loop through the matches in the match history and add relevant data to the player dict\n",
    "    player_match = {\n",
    "        'puuid': player['puuid'],\n",
    "        'match_ids': []\n",
    "    }\n",
    "    for match in match_history:\n",
    "\n",
    "        player_match['match_ids'].append(match)\n",
    "    # Add the player data to the list of all player data\n",
    "    player_match_data.append(player_match)\n",
    "\n",
    "# Save all player data to a file\n",
    "with open('players_match.json', 'w') as f:\n",
    "    json.dump(player_match_data, f)\n"
   ]
  },
  {
   "cell_type": "code",
   "execution_count": 12,
   "metadata": {},
   "outputs": [],
   "source": []
  },
  {
   "cell_type": "code",
   "execution_count": null,
   "metadata": {},
   "outputs": [],
   "source": []
  }
 ],
 "metadata": {
  "kernelspec": {
   "display_name": "Python 3.9.7 64-bit",
   "language": "python",
   "name": "python3"
  },
  "language_info": {
   "codemirror_mode": {
    "name": "ipython",
    "version": 3
   },
   "file_extension": ".py",
   "mimetype": "text/x-python",
   "name": "python",
   "nbconvert_exporter": "python",
   "pygments_lexer": "ipython3",
   "version": "3.9.7"
  },
  "orig_nbformat": 4,
  "vscode": {
   "interpreter": {
    "hash": "edb6158424d4e4ebf70831315604eef58f4dd701a487a1711256d9b21ba81765"
   }
  }
 },
 "nbformat": 4,
 "nbformat_minor": 2
}
